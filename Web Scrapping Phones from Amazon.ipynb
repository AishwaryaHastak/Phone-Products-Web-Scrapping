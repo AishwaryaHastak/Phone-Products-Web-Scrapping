{
 "cells": [
  {
   "cell_type": "code",
   "execution_count": 199,
   "metadata": {
    "scrolled": true
   },
   "outputs": [],
   "source": [
    "from bs4 import BeautifulSoup as bs\n",
    "from urllib.request import urlopen as urq\n",
    "import requests\n",
    "import pandas as pd\n",
    "import numpy as np"
   ]
  },
  {
   "cell_type": "markdown",
   "metadata": {},
   "source": [
    "### Scrapping phones from Amazon website"
   ]
  },
  {
   "cell_type": "code",
   "execution_count": 200,
   "metadata": {},
   "outputs": [],
   "source": [
    "url='https://www.amazon.in/s/ref=mega_elec_s23_1_1_1_1?rh=i%3Aelectronics%2Cn%3A1389401031&ie=UTF8&bbn=976419031'"
   ]
  },
  {
   "cell_type": "code",
   "execution_count": 201,
   "metadata": {},
   "outputs": [],
   "source": [
    "client=urq(url)"
   ]
  },
  {
   "cell_type": "code",
   "execution_count": 202,
   "metadata": {},
   "outputs": [],
   "source": [
    "page=client.read()"
   ]
  },
  {
   "cell_type": "code",
   "execution_count": 203,
   "metadata": {},
   "outputs": [],
   "source": [
    "client.close()"
   ]
  },
  {
   "cell_type": "code",
   "execution_count": 204,
   "metadata": {},
   "outputs": [],
   "source": [
    "page_soup=bs(page,'html.parser')"
   ]
  },
  {
   "cell_type": "code",
   "execution_count": 205,
   "metadata": {},
   "outputs": [],
   "source": [
    "container=page_soup.find_all('div',{'class':'s-item-container'})\n",
    "#prices=page_soup.find_all('span',{'class':'a-size-base a-color-price s-price a-text-bold'})"
   ]
  },
  {
   "cell_type": "code",
   "execution_count": 206,
   "metadata": {},
   "outputs": [
    {
     "name": "stdout",
     "output_type": "stream",
     "text": [
      "25\n"
     ]
    }
   ],
   "source": [
    "print(len(container))"
   ]
  },
  {
   "cell_type": "markdown",
   "metadata": {},
   "source": [
    "### Scrapping Model, Price and RAM"
   ]
  },
  {
   "cell_type": "code",
   "execution_count": 207,
   "metadata": {},
   "outputs": [],
   "source": [
    "price_inr=[];model=[];ram=[]\n",
    "for obj in container[:-1]:\n",
    "    name=obj.find('img')['alt']\n",
    "    model.append(name)\n",
    "    s=obj.find('span',{'class':'a-size-base a-color-price s-price a-text-bold'})\n",
    "    if s==None:\n",
    "        price_inr.append(None)\n",
    "    else:\n",
    "        price=(bs.prettify(s).split('\\n'))\n",
    "        price_inr.append(int(price[3][1:].replace(',','')))\n",
    "    if 'RAM,' in name.split(' '):\n",
    "        i=name.split(' ').index('RAM,')\n",
    "        ram.append(int(name.split(' ')[i-1][0]))\n",
    "    else:\n",
    "        ram.append(None)"
   ]
  },
  {
   "cell_type": "code",
   "execution_count": 208,
   "metadata": {
    "scrolled": false
   },
   "outputs": [
    {
     "name": "stdout",
     "output_type": "stream",
     "text": [
      "[11499, 1999, 11499, None, 11499, 7299, 7999, 16999, 249, 12699, 599, 229, 16999, 1499, 1999, 799, 14999, 15999, 7999, 1499, 269, 3999, 399, 399]\n",
      "\n",
      "24\n",
      "\n",
      "['Redmi Note 8 (Neptune Blue, 4GB RAM, 64GB Storage)', 'OnePlus Bullets Wireless Z (Black)', 'Redmi Note 8 (Moonlight White, 4GB RAM, 64GB Storage)', 'Redmi 8A Dual (Sea Blue, 2GB RAM, 32GB Storage) – Dual Cameras & 5,000 mAH Battery', 'Redmi Note 8 (Space Black, 4GB RAM, 64GB Storage)', 'Redmi 8A Dual (Sky White, 2GB RAM, 32GB Storage) – Dual Cameras & 5,000 mAH Battery', 'Redmi 8A Dual (Sea Blue, 3GB RAM, 32GB Storage) – Dual Cameras & 5,000 mAH Battery', 'Samsung Galaxy M31 (Ocean Blue, 6GB RAM, 128GB Storage)', 'boAt Rugged v3 Extra Tough Unbreakable Braided Micro USB Cable 1.5 Meter (Black)', 'Samsung Galaxy M21 (Raven Black, 4GB RAM, 64GB Storage)', 'JBL C100SI In-Ear Deep Bass Headphones with Mic (Black)', 'Mi USB Cable 120cm (Black)', 'Samsung Galaxy M31 (Space Black, 6GB RAM, 128GB Storage)', 'boAt Rockerz 255 Sports Wireless Headset with Bluetooth V5.0, Super Extra Bass, IPX5 Water & Sweat Resistance, Qualcomm Chipset and Up to 6H Playback (Active Black)', 'OnePlus Bullets Wireless Z (Blue)', 'AmazonBasics Nylon Braided USB A to Lightning Compatible Cable - Apple MFi Certified - Dark Grey (3 Feet/0.9 Meter)', 'Samsung Galaxy M21 (Midnight Blue, 6GB RAM, 128GB Storage)', 'Samsung Galaxy M31 (Ocean Blue, 6GB RAM, 64GB Storage)', 'Redmi 8A Dual (Midnight Grey, 3GB RAM, 32GB Storage) – Dual Cameras & 5,000 mAH Battery', 'Mi 20000mAH Li-Polymer Power Bank 2i (Sandstone Black) with 18W Fast Charging', 'Mi 2-in-1 USB Cable (Micro USB to Type-C) 100cm', 'Mi True Wireless Earphones 2 with Mic (White)', 'Mi India Standard Charger 5V 2A', 'iBall 10000 mAh Powerbank (IB-10000LP), Dual USB Output, Black']\n",
      "\n",
      "24\n",
      "\n",
      "[4, None, 4, 2, 4, 2, 3, 6, None, 4, None, None, 6, None, None, None, 6, 6, 3, None, None, None, None, None]\n"
     ]
    }
   ],
   "source": [
    "print(price_inr,len(price_inr),model,len(model),ram,sep='\\n\\n')"
   ]
  },
  {
   "cell_type": "markdown",
   "metadata": {},
   "source": [
    "### Scrapping other pages"
   ]
  },
  {
   "cell_type": "code",
   "execution_count": 209,
   "metadata": {},
   "outputs": [],
   "source": [
    "urls=[]\n",
    "urls.append('https://www.amazon.in/s?rh=n%3A976419031%2Cn%3A%21976420031%2Cn%3A1389401031&page=2&qid=1589360014&ref=lp_1389401031_pg_2')\n",
    "urls.append('https://www.amazon.in/s?i=electronics&rh=n%3A976419031%2Cn%3A976420031%2Cn%3A1389401031&page=3&qid=1589361210&ref=sr_pg_3')\n",
    "urls.append('https://www.amazon.in/s?i=electronics&rh=n%3A976419031%2Cn%3A976420031%2Cn%3A1389401031&page=4&qid=1589361223&ref=sr_pg_4')\n",
    "urls.append('https://www.amazon.in/s?i=electronics&rh=n%3A976419031%2Cn%3A976420031%2Cn%3A1389401031&page=6&qid=1589362577&ref=sr_pg_6')\n",
    "for url in urls:\n",
    "    client=urq(url)\n",
    "    page=client.read()\n",
    "    client.close()\n",
    "    page_soup=bs(page,'html.parser')\n",
    "    container=page_soup.find_all('div',{'class':'a-section a-spacing-medium'})\n",
    "    for obj in container:\n",
    "        name=obj.find('img')['alt']\n",
    "        model.append(name)\n",
    "        s=obj.find('span',{'class':'a-price-whole'})\n",
    "        if s==None:\n",
    "            price_inr.append(None)\n",
    "        else:\n",
    "            price=(bs.prettify(s).split('\\n'))\n",
    "            #print(price,int(price[1][1:].replace(',','')))\n",
    "            price_inr.append(int(price[1][1:].replace(',','')))\n",
    "        if 'RAM,' in name.split(' '):\n",
    "            i=name.split(' ').index('RAM,')\n",
    "            ram.append(int(name.split(' ')[i-1][0]))\n",
    "        else:\n",
    "            ram.append(None)"
   ]
  },
  {
   "cell_type": "markdown",
   "metadata": {},
   "source": [
    "### creating a dataframe and exporting data to a csv file"
   ]
  },
  {
   "cell_type": "code",
   "execution_count": 210,
   "metadata": {},
   "outputs": [
    {
     "name": "stdout",
     "output_type": "stream",
     "text": [
      "120 120 120\n"
     ]
    }
   ],
   "source": [
    "print(len(model),len(price_inr),len(ram))"
   ]
  },
  {
   "cell_type": "code",
   "execution_count": 211,
   "metadata": {},
   "outputs": [],
   "source": [
    "data=pd.DataFrame({'Product':model,'Price':price_inr,'RAM':ram})"
   ]
  },
  {
   "cell_type": "markdown",
   "metadata": {},
   "source": [
    "### Drop all products that are not phones"
   ]
  },
  {
   "cell_type": "code",
   "execution_count": 212,
   "metadata": {
    "scrolled": false
   },
   "outputs": [
    {
     "data": {
      "text/html": [
       "<div>\n",
       "<style scoped>\n",
       "    .dataframe tbody tr th:only-of-type {\n",
       "        vertical-align: middle;\n",
       "    }\n",
       "\n",
       "    .dataframe tbody tr th {\n",
       "        vertical-align: top;\n",
       "    }\n",
       "\n",
       "    .dataframe thead th {\n",
       "        text-align: right;\n",
       "    }\n",
       "</style>\n",
       "<table border=\"1\" class=\"dataframe\">\n",
       "  <thead>\n",
       "    <tr style=\"text-align: right;\">\n",
       "      <th></th>\n",
       "      <th>Product</th>\n",
       "      <th>Price</th>\n",
       "      <th>RAM</th>\n",
       "    </tr>\n",
       "  </thead>\n",
       "  <tbody>\n",
       "    <tr>\n",
       "      <th>1</th>\n",
       "      <td>OnePlus Bullets Wireless Z (Black)</td>\n",
       "      <td>1999.0</td>\n",
       "      <td>NaN</td>\n",
       "    </tr>\n",
       "    <tr>\n",
       "      <th>8</th>\n",
       "      <td>boAt Rugged v3 Extra Tough Unbreakable Braided...</td>\n",
       "      <td>249.0</td>\n",
       "      <td>NaN</td>\n",
       "    </tr>\n",
       "    <tr>\n",
       "      <th>10</th>\n",
       "      <td>JBL C100SI In-Ear Deep Bass Headphones with Mi...</td>\n",
       "      <td>599.0</td>\n",
       "      <td>NaN</td>\n",
       "    </tr>\n",
       "    <tr>\n",
       "      <th>11</th>\n",
       "      <td>Mi USB Cable 120cm (Black)</td>\n",
       "      <td>229.0</td>\n",
       "      <td>NaN</td>\n",
       "    </tr>\n",
       "    <tr>\n",
       "      <th>13</th>\n",
       "      <td>boAt Rockerz 255 Sports Wireless Headset with ...</td>\n",
       "      <td>1499.0</td>\n",
       "      <td>NaN</td>\n",
       "    </tr>\n",
       "  </tbody>\n",
       "</table>\n",
       "</div>"
      ],
      "text/plain": [
       "                                              Product   Price  RAM\n",
       "1                  OnePlus Bullets Wireless Z (Black)  1999.0  NaN\n",
       "8   boAt Rugged v3 Extra Tough Unbreakable Braided...   249.0  NaN\n",
       "10  JBL C100SI In-Ear Deep Bass Headphones with Mi...   599.0  NaN\n",
       "11                         Mi USB Cable 120cm (Black)   229.0  NaN\n",
       "13  boAt Rockerz 255 Sports Wireless Headset with ...  1499.0  NaN"
      ]
     },
     "execution_count": 212,
     "metadata": {},
     "output_type": "execute_result"
    }
   ],
   "source": [
    "data[data['RAM'].isnull()].head()"
   ]
  },
  {
   "cell_type": "code",
   "execution_count": 213,
   "metadata": {},
   "outputs": [],
   "source": [
    "data.dropna(axis=0,inplace=True)"
   ]
  },
  {
   "cell_type": "code",
   "execution_count": 214,
   "metadata": {},
   "outputs": [
    {
     "data": {
      "text/html": [
       "<div>\n",
       "<style scoped>\n",
       "    .dataframe tbody tr th:only-of-type {\n",
       "        vertical-align: middle;\n",
       "    }\n",
       "\n",
       "    .dataframe tbody tr th {\n",
       "        vertical-align: top;\n",
       "    }\n",
       "\n",
       "    .dataframe thead th {\n",
       "        text-align: right;\n",
       "    }\n",
       "</style>\n",
       "<table border=\"1\" class=\"dataframe\">\n",
       "  <thead>\n",
       "    <tr style=\"text-align: right;\">\n",
       "      <th></th>\n",
       "      <th>Product</th>\n",
       "      <th>Price</th>\n",
       "      <th>RAM</th>\n",
       "    </tr>\n",
       "  </thead>\n",
       "  <tbody>\n",
       "    <tr>\n",
       "      <th>0</th>\n",
       "      <td>Redmi Note 8 (Neptune Blue, 4GB RAM, 64GB Stor...</td>\n",
       "      <td>11499.0</td>\n",
       "      <td>4.0</td>\n",
       "    </tr>\n",
       "    <tr>\n",
       "      <th>2</th>\n",
       "      <td>Redmi Note 8 (Moonlight White, 4GB RAM, 64GB S...</td>\n",
       "      <td>11499.0</td>\n",
       "      <td>4.0</td>\n",
       "    </tr>\n",
       "    <tr>\n",
       "      <th>4</th>\n",
       "      <td>Redmi Note 8 (Space Black, 4GB RAM, 64GB Storage)</td>\n",
       "      <td>11499.0</td>\n",
       "      <td>4.0</td>\n",
       "    </tr>\n",
       "    <tr>\n",
       "      <th>5</th>\n",
       "      <td>Redmi 8A Dual (Sky White, 2GB RAM, 32GB Storag...</td>\n",
       "      <td>7299.0</td>\n",
       "      <td>2.0</td>\n",
       "    </tr>\n",
       "    <tr>\n",
       "      <th>6</th>\n",
       "      <td>Redmi 8A Dual (Sea Blue, 3GB RAM, 32GB Storage...</td>\n",
       "      <td>7999.0</td>\n",
       "      <td>3.0</td>\n",
       "    </tr>\n",
       "  </tbody>\n",
       "</table>\n",
       "</div>"
      ],
      "text/plain": [
       "                                             Product    Price  RAM\n",
       "0  Redmi Note 8 (Neptune Blue, 4GB RAM, 64GB Stor...  11499.0  4.0\n",
       "2  Redmi Note 8 (Moonlight White, 4GB RAM, 64GB S...  11499.0  4.0\n",
       "4  Redmi Note 8 (Space Black, 4GB RAM, 64GB Storage)  11499.0  4.0\n",
       "5  Redmi 8A Dual (Sky White, 2GB RAM, 32GB Storag...   7299.0  2.0\n",
       "6  Redmi 8A Dual (Sea Blue, 3GB RAM, 32GB Storage...   7999.0  3.0"
      ]
     },
     "execution_count": 214,
     "metadata": {},
     "output_type": "execute_result"
    }
   ],
   "source": [
    "data.head()"
   ]
  },
  {
   "cell_type": "code",
   "execution_count": 215,
   "metadata": {},
   "outputs": [],
   "source": [
    "data.to_excel('phones.xlsx',index=False)"
   ]
  },
  {
   "cell_type": "code",
   "execution_count": 216,
   "metadata": {
    "scrolled": true
   },
   "outputs": [
    {
     "data": {
      "text/html": [
       "<div>\n",
       "<style scoped>\n",
       "    .dataframe tbody tr th:only-of-type {\n",
       "        vertical-align: middle;\n",
       "    }\n",
       "\n",
       "    .dataframe tbody tr th {\n",
       "        vertical-align: top;\n",
       "    }\n",
       "\n",
       "    .dataframe thead th {\n",
       "        text-align: right;\n",
       "    }\n",
       "</style>\n",
       "<table border=\"1\" class=\"dataframe\">\n",
       "  <thead>\n",
       "    <tr style=\"text-align: right;\">\n",
       "      <th></th>\n",
       "      <th>Price</th>\n",
       "      <th>RAM</th>\n",
       "    </tr>\n",
       "  </thead>\n",
       "  <tbody>\n",
       "    <tr>\n",
       "      <th>count</th>\n",
       "      <td>35.000000</td>\n",
       "      <td>35.000000</td>\n",
       "    </tr>\n",
       "    <tr>\n",
       "      <th>mean</th>\n",
       "      <td>16583.685714</td>\n",
       "      <td>5.200000</td>\n",
       "    </tr>\n",
       "    <tr>\n",
       "      <th>std</th>\n",
       "      <td>9294.396344</td>\n",
       "      <td>1.659199</td>\n",
       "    </tr>\n",
       "    <tr>\n",
       "      <th>min</th>\n",
       "      <td>7299.000000</td>\n",
       "      <td>2.000000</td>\n",
       "    </tr>\n",
       "    <tr>\n",
       "      <th>25%</th>\n",
       "      <td>11499.000000</td>\n",
       "      <td>4.000000</td>\n",
       "    </tr>\n",
       "    <tr>\n",
       "      <th>50%</th>\n",
       "      <td>14999.000000</td>\n",
       "      <td>6.000000</td>\n",
       "    </tr>\n",
       "    <tr>\n",
       "      <th>75%</th>\n",
       "      <td>16999.000000</td>\n",
       "      <td>6.000000</td>\n",
       "    </tr>\n",
       "    <tr>\n",
       "      <th>max</th>\n",
       "      <td>47999.000000</td>\n",
       "      <td>8.000000</td>\n",
       "    </tr>\n",
       "  </tbody>\n",
       "</table>\n",
       "</div>"
      ],
      "text/plain": [
       "              Price        RAM\n",
       "count     35.000000  35.000000\n",
       "mean   16583.685714   5.200000\n",
       "std     9294.396344   1.659199\n",
       "min     7299.000000   2.000000\n",
       "25%    11499.000000   4.000000\n",
       "50%    14999.000000   6.000000\n",
       "75%    16999.000000   6.000000\n",
       "max    47999.000000   8.000000"
      ]
     },
     "execution_count": 216,
     "metadata": {},
     "output_type": "execute_result"
    }
   ],
   "source": [
    "data.describe()"
   ]
  },
  {
   "cell_type": "code",
   "execution_count": 217,
   "metadata": {},
   "outputs": [],
   "source": [
    "max_RAM=data['RAM'].max()"
   ]
  },
  {
   "cell_type": "code",
   "execution_count": 218,
   "metadata": {},
   "outputs": [],
   "source": [
    "new_data=data[data['RAM']==max_RAM].sort_values(by='Price',axis=0)"
   ]
  },
  {
   "cell_type": "code",
   "execution_count": 219,
   "metadata": {},
   "outputs": [
    {
     "data": {
      "text/html": [
       "<div>\n",
       "<style scoped>\n",
       "    .dataframe tbody tr th:only-of-type {\n",
       "        vertical-align: middle;\n",
       "    }\n",
       "\n",
       "    .dataframe tbody tr th {\n",
       "        vertical-align: top;\n",
       "    }\n",
       "\n",
       "    .dataframe thead th {\n",
       "        text-align: right;\n",
       "    }\n",
       "</style>\n",
       "<table border=\"1\" class=\"dataframe\">\n",
       "  <thead>\n",
       "    <tr style=\"text-align: right;\">\n",
       "      <th></th>\n",
       "      <th>Product</th>\n",
       "      <th>Price</th>\n",
       "      <th>RAM</th>\n",
       "    </tr>\n",
       "  </thead>\n",
       "  <tbody>\n",
       "    <tr>\n",
       "      <th>100</th>\n",
       "      <td>Poco F1 by Xiaomi (Armored Edition, 8GB RAM, 2...</td>\n",
       "      <td>16999.0</td>\n",
       "      <td>8.0</td>\n",
       "    </tr>\n",
       "    <tr>\n",
       "      <th>27</th>\n",
       "      <td>OnePlus 7T (Glacier Blue, 8GB RAM, Fluid AMOLE...</td>\n",
       "      <td>34999.0</td>\n",
       "      <td>8.0</td>\n",
       "    </tr>\n",
       "    <tr>\n",
       "      <th>57</th>\n",
       "      <td>OnePlus 7T (Frosted Silver, 8GB RAM, Fluid AMO...</td>\n",
       "      <td>34999.0</td>\n",
       "      <td>8.0</td>\n",
       "    </tr>\n",
       "    <tr>\n",
       "      <th>77</th>\n",
       "      <td>OnePlus 7 Pro (Mirror Grey, 8GB RAM, Fluid AMO...</td>\n",
       "      <td>42999.0</td>\n",
       "      <td>8.0</td>\n",
       "    </tr>\n",
       "    <tr>\n",
       "      <th>99</th>\n",
       "      <td>OnePlus 7T Pro (Haze Blue, 8GB RAM, Fluid AMOL...</td>\n",
       "      <td>47999.0</td>\n",
       "      <td>8.0</td>\n",
       "    </tr>\n",
       "  </tbody>\n",
       "</table>\n",
       "</div>"
      ],
      "text/plain": [
       "                                               Product    Price  RAM\n",
       "100  Poco F1 by Xiaomi (Armored Edition, 8GB RAM, 2...  16999.0  8.0\n",
       "27   OnePlus 7T (Glacier Blue, 8GB RAM, Fluid AMOLE...  34999.0  8.0\n",
       "57   OnePlus 7T (Frosted Silver, 8GB RAM, Fluid AMO...  34999.0  8.0\n",
       "77   OnePlus 7 Pro (Mirror Grey, 8GB RAM, Fluid AMO...  42999.0  8.0\n",
       "99   OnePlus 7T Pro (Haze Blue, 8GB RAM, Fluid AMOL...  47999.0  8.0"
      ]
     },
     "execution_count": 219,
     "metadata": {},
     "output_type": "execute_result"
    }
   ],
   "source": [
    "new_data"
   ]
  },
  {
   "cell_type": "markdown",
   "metadata": {},
   "source": [
    "## The phone with highest RAM at lowest price"
   ]
  },
  {
   "cell_type": "code",
   "execution_count": 220,
   "metadata": {
    "scrolled": true
   },
   "outputs": [
    {
     "data": {
      "text/html": [
       "<div>\n",
       "<style scoped>\n",
       "    .dataframe tbody tr th:only-of-type {\n",
       "        vertical-align: middle;\n",
       "    }\n",
       "\n",
       "    .dataframe tbody tr th {\n",
       "        vertical-align: top;\n",
       "    }\n",
       "\n",
       "    .dataframe thead th {\n",
       "        text-align: right;\n",
       "    }\n",
       "</style>\n",
       "<table border=\"1\" class=\"dataframe\">\n",
       "  <thead>\n",
       "    <tr style=\"text-align: right;\">\n",
       "      <th></th>\n",
       "      <th>Product</th>\n",
       "      <th>Price</th>\n",
       "      <th>RAM</th>\n",
       "    </tr>\n",
       "  </thead>\n",
       "  <tbody>\n",
       "    <tr>\n",
       "      <th>100</th>\n",
       "      <td>Poco F1 by Xiaomi (Armored Edition, 8GB RAM, 2...</td>\n",
       "      <td>16999.0</td>\n",
       "      <td>8.0</td>\n",
       "    </tr>\n",
       "  </tbody>\n",
       "</table>\n",
       "</div>"
      ],
      "text/plain": [
       "                                               Product    Price  RAM\n",
       "100  Poco F1 by Xiaomi (Armored Edition, 8GB RAM, 2...  16999.0  8.0"
      ]
     },
     "execution_count": 220,
     "metadata": {},
     "output_type": "execute_result"
    }
   ],
   "source": [
    "new_data.head(1)"
   ]
  }
 ],
 "metadata": {
  "kernelspec": {
   "display_name": "Python 3",
   "language": "python",
   "name": "python3"
  },
  "language_info": {
   "codemirror_mode": {
    "name": "ipython",
    "version": 3
   },
   "file_extension": ".py",
   "mimetype": "text/x-python",
   "name": "python",
   "nbconvert_exporter": "python",
   "pygments_lexer": "ipython3",
   "version": "3.6.10"
  }
 },
 "nbformat": 4,
 "nbformat_minor": 4
}
