{
 "cells": [
  {
   "cell_type": "code",
   "execution_count": 6,
   "metadata": {
    "scrolled": true
   },
   "outputs": [],
   "source": [
    "from bs4 import BeautifulSoup as bs\n",
    "from urllib.request import urlopen as urq\n",
    "import pandas as pd\n",
    "import numpy as np"
   ]
  },
  {
   "cell_type": "markdown",
   "metadata": {},
   "source": [
    "### Scrapping phones from Amazon website"
   ]
  },
  {
   "cell_type": "code",
   "execution_count": 55,
   "metadata": {},
   "outputs": [],
   "source": [
    "url='https://www.amazon.in/mobile-phones/b/?ie=UTF8&node=1389401031&ref_=nav_cs_mobiles'"
   ]
  },
  {
   "cell_type": "code",
   "execution_count": 56,
   "metadata": {},
   "outputs": [],
   "source": [
    "client=urq(url)"
   ]
  },
  {
   "cell_type": "code",
   "execution_count": 57,
   "metadata": {},
   "outputs": [],
   "source": [
    "page=client.read()"
   ]
  },
  {
   "cell_type": "code",
   "execution_count": 58,
   "metadata": {},
   "outputs": [],
   "source": [
    "client.close()"
   ]
  },
  {
   "cell_type": "code",
   "execution_count": 59,
   "metadata": {},
   "outputs": [],
   "source": [
    "page_soup=bs(page,'html.parser')"
   ]
  },
  {
   "cell_type": "code",
   "execution_count": 98,
   "metadata": {},
   "outputs": [],
   "source": [
    "container=page_soup.find_all('div',{'class':'a-section a-spacing-none a-inline-block s-position-relative'})\n",
    "prices=page_soup.find_all('span',{'class':'a-size-base a-color-price s-price a-text-bold'})"
   ]
  },
  {
   "cell_type": "code",
   "execution_count": 100,
   "metadata": {},
   "outputs": [
    {
     "name": "stdout",
     "output_type": "stream",
     "text": [
      "24 24\n"
     ]
    }
   ],
   "source": [
    "print(len(container),len(prices))"
   ]
  },
  {
   "cell_type": "markdown",
   "metadata": {},
   "source": [
    "### Scrapping Model, Price and RAM"
   ]
  },
  {
   "cell_type": "code",
   "execution_count": 185,
   "metadata": {},
   "outputs": [],
   "source": [
    "price_inr=[];model=[];ram=[]\n",
    "for obj in prices:\n",
    "    price=(bs.prettify(obj).split('\\n'))\n",
    "    price_inr.append(int(price[3][1:].replace(',','')))\n",
    "for obj in container:\n",
    "    name=obj.img['alt']\n",
    "    model.append(name)\n",
    "    if 'RAM,' in name.split(' '):\n",
    "        i=name.split(' ').index('RAM,')\n",
    "        ram.append(int(name.split(' ')[i-1][0]))\n",
    "    else:\n",
    "        ram.append(None)"
   ]
  },
  {
   "cell_type": "code",
   "execution_count": 187,
   "metadata": {},
   "outputs": [
    {
     "name": "stdout",
     "output_type": "stream",
     "text": [
      "[10999, 1999, 6999, 10999, 10999, 6999, 249, 7999, 16999, 12699, 599, 229, 16999, 1499, 15999, 449, 269, 399, 1499, 7999, 14999, 399, 369, 245]\n",
      "\n",
      "['Redmi Note 8 (Neptune Blue, 4GB RAM, 64GB Storage)', 'OnePlus Bullets Wireless Z (Black)', 'Redmi 8A Dual (Sea Blue, 2GB RAM, 32GB Storage) – Dual Cameras & 5,000 mAH Battery', 'Redmi Note 8 (Space Black, 4GB RAM, 64GB Storage)', 'Redmi Note 8 (Moonlight White, 4GB RAM, 64GB Storage)', 'Redmi 8A Dual (Sky White, 2GB RAM, 32GB Storage) – Dual Cameras & 5,000 mAH Battery', 'boAt Rugged v3 Extra Tough Unbreakable Braided Micro USB Cable 1.5 Meter (Black)', 'Redmi 8A Dual (Sea Blue, 3GB RAM, 32GB Storage) – Dual Cameras & 5,000 mAH Battery', 'Samsung Galaxy M31 (Ocean Blue, 6GB RAM, 128GB Storage)', 'Samsung Galaxy M21 (Raven Black, 4GB RAM, 64GB Storage)', 'JBL C100SI In-Ear Deep Bass Headphones with Mic (Black)', 'Mi USB Cable 120cm (Black)', 'Samsung Galaxy M31 (Space Black, 6GB RAM, 128GB Storage)', 'boAt Rockerz 255 Sports Wireless Headset with Bluetooth V5.0, Super Extra Bass, IPX5 Water & Sweat Resistance, Qualcomm Chipset and Up to 6H Playback (Active Black)', 'Samsung Galaxy M31 (Ocean Blue, 6GB RAM, 64GB Storage)', 'RSC POWER+ Compatible Dash/Warp Data Sync Fast Charging Cable Supported for All C Type Devices (Red and White)', 'Mi 2-in-1 USB Cable (Micro USB to Type-C) 100cm', 'Mi India Standard Charger 5V 2A', 'Mi 20000mAH Li-Polymer Power Bank 2i (Sandstone Black) with 18W Fast Charging', 'Redmi 8A Dual (Midnight Grey, 3GB RAM, 32GB Storage) – Dual Cameras & 5,000 mAH Battery', 'Samsung Galaxy M21 (Midnight Blue, 6GB RAM, 128GB Storage)', 'iBall 10000 mAh Powerbank (IB-10000LP), Dual USB Output, Black', 'AmazonBasics USB Type-C to USB-A 2.0 Male Cable - 3 Feet (0.9 Meters) - Black', 'CEDO Tempered Glass for Samsung Galaxy M31 / M30 / A50 / A30 | Screen Protector Full HD Quality Edge to Edge Coverage for Samsung Galaxy M31 / M30 / A50 / A30 (Black)']\n",
      "\n",
      "[4, None, 2, 4, 4, 2, None, 3, 6, 4, None, None, 6, None, 6, None, None, None, None, 3, 6, None, None, None]\n"
     ]
    }
   ],
   "source": [
    "print(price_inr,model,ram,sep='\\n\\n')"
   ]
  },
  {
   "cell_type": "markdown",
   "metadata": {},
   "source": [
    "### creating a dataframe and exporting data to a csv file"
   ]
  },
  {
   "cell_type": "code",
   "execution_count": 174,
   "metadata": {},
   "outputs": [],
   "source": [
    "data=pd.DataFrame({'Product':model,'Price':price_inr,'RAM':ram})"
   ]
  },
  {
   "cell_type": "code",
   "execution_count": 195,
   "metadata": {},
   "outputs": [],
   "source": [
    "data.to_excel('phones.xlsx',index=False)"
   ]
  },
  {
   "cell_type": "code",
   "execution_count": 175,
   "metadata": {},
   "outputs": [
    {
     "data": {
      "text/html": [
       "<div>\n",
       "<style scoped>\n",
       "    .dataframe tbody tr th:only-of-type {\n",
       "        vertical-align: middle;\n",
       "    }\n",
       "\n",
       "    .dataframe tbody tr th {\n",
       "        vertical-align: top;\n",
       "    }\n",
       "\n",
       "    .dataframe thead th {\n",
       "        text-align: right;\n",
       "    }\n",
       "</style>\n",
       "<table border=\"1\" class=\"dataframe\">\n",
       "  <thead>\n",
       "    <tr style=\"text-align: right;\">\n",
       "      <th></th>\n",
       "      <th>Product</th>\n",
       "      <th>Price</th>\n",
       "      <th>RAM</th>\n",
       "    </tr>\n",
       "  </thead>\n",
       "  <tbody>\n",
       "    <tr>\n",
       "      <th>0</th>\n",
       "      <td>Redmi Note 8 (Neptune Blue, 4GB RAM, 64GB Stor...</td>\n",
       "      <td>10999</td>\n",
       "      <td>4.0</td>\n",
       "    </tr>\n",
       "    <tr>\n",
       "      <th>1</th>\n",
       "      <td>OnePlus Bullets Wireless Z (Black)</td>\n",
       "      <td>1999</td>\n",
       "      <td>NaN</td>\n",
       "    </tr>\n",
       "    <tr>\n",
       "      <th>2</th>\n",
       "      <td>Redmi 8A Dual (Sea Blue, 2GB RAM, 32GB Storage...</td>\n",
       "      <td>6999</td>\n",
       "      <td>2.0</td>\n",
       "    </tr>\n",
       "    <tr>\n",
       "      <th>3</th>\n",
       "      <td>Redmi Note 8 (Space Black, 4GB RAM, 64GB Storage)</td>\n",
       "      <td>10999</td>\n",
       "      <td>4.0</td>\n",
       "    </tr>\n",
       "    <tr>\n",
       "      <th>4</th>\n",
       "      <td>Redmi Note 8 (Moonlight White, 4GB RAM, 64GB S...</td>\n",
       "      <td>10999</td>\n",
       "      <td>4.0</td>\n",
       "    </tr>\n",
       "  </tbody>\n",
       "</table>\n",
       "</div>"
      ],
      "text/plain": [
       "                                             Product  Price  RAM\n",
       "0  Redmi Note 8 (Neptune Blue, 4GB RAM, 64GB Stor...  10999  4.0\n",
       "1                 OnePlus Bullets Wireless Z (Black)   1999  NaN\n",
       "2  Redmi 8A Dual (Sea Blue, 2GB RAM, 32GB Storage...   6999  2.0\n",
       "3  Redmi Note 8 (Space Black, 4GB RAM, 64GB Storage)  10999  4.0\n",
       "4  Redmi Note 8 (Moonlight White, 4GB RAM, 64GB S...  10999  4.0"
      ]
     },
     "execution_count": 175,
     "metadata": {},
     "output_type": "execute_result"
    }
   ],
   "source": [
    "data.head()"
   ]
  },
  {
   "cell_type": "code",
   "execution_count": 176,
   "metadata": {
    "scrolled": true
   },
   "outputs": [
    {
     "data": {
      "text/html": [
       "<div>\n",
       "<style scoped>\n",
       "    .dataframe tbody tr th:only-of-type {\n",
       "        vertical-align: middle;\n",
       "    }\n",
       "\n",
       "    .dataframe tbody tr th {\n",
       "        vertical-align: top;\n",
       "    }\n",
       "\n",
       "    .dataframe thead th {\n",
       "        text-align: right;\n",
       "    }\n",
       "</style>\n",
       "<table border=\"1\" class=\"dataframe\">\n",
       "  <thead>\n",
       "    <tr style=\"text-align: right;\">\n",
       "      <th></th>\n",
       "      <th>Price</th>\n",
       "      <th>RAM</th>\n",
       "    </tr>\n",
       "  </thead>\n",
       "  <tbody>\n",
       "    <tr>\n",
       "      <th>count</th>\n",
       "      <td>24.000000</td>\n",
       "      <td>12.000000</td>\n",
       "    </tr>\n",
       "    <tr>\n",
       "      <th>mean</th>\n",
       "      <td>6203.833333</td>\n",
       "      <td>4.166667</td>\n",
       "    </tr>\n",
       "    <tr>\n",
       "      <th>std</th>\n",
       "      <td>6238.238517</td>\n",
       "      <td>1.527525</td>\n",
       "    </tr>\n",
       "    <tr>\n",
       "      <th>min</th>\n",
       "      <td>229.000000</td>\n",
       "      <td>2.000000</td>\n",
       "    </tr>\n",
       "    <tr>\n",
       "      <th>25%</th>\n",
       "      <td>399.000000</td>\n",
       "      <td>3.000000</td>\n",
       "    </tr>\n",
       "    <tr>\n",
       "      <th>50%</th>\n",
       "      <td>4499.000000</td>\n",
       "      <td>4.000000</td>\n",
       "    </tr>\n",
       "    <tr>\n",
       "      <th>75%</th>\n",
       "      <td>10999.000000</td>\n",
       "      <td>6.000000</td>\n",
       "    </tr>\n",
       "    <tr>\n",
       "      <th>max</th>\n",
       "      <td>16999.000000</td>\n",
       "      <td>6.000000</td>\n",
       "    </tr>\n",
       "  </tbody>\n",
       "</table>\n",
       "</div>"
      ],
      "text/plain": [
       "              Price        RAM\n",
       "count     24.000000  12.000000\n",
       "mean    6203.833333   4.166667\n",
       "std     6238.238517   1.527525\n",
       "min      229.000000   2.000000\n",
       "25%      399.000000   3.000000\n",
       "50%     4499.000000   4.000000\n",
       "75%    10999.000000   6.000000\n",
       "max    16999.000000   6.000000"
      ]
     },
     "execution_count": 176,
     "metadata": {},
     "output_type": "execute_result"
    }
   ],
   "source": [
    "data.describe()"
   ]
  },
  {
   "cell_type": "code",
   "execution_count": 178,
   "metadata": {},
   "outputs": [],
   "source": [
    "max_RAM=data['RAM'].max()"
   ]
  },
  {
   "cell_type": "code",
   "execution_count": 181,
   "metadata": {},
   "outputs": [],
   "source": [
    "new_data=data[data['RAM']==max_RAM].sort_values(by='Price',axis=0)"
   ]
  },
  {
   "cell_type": "markdown",
   "metadata": {},
   "source": [
    "## The phone with highest RAM at lowest price"
   ]
  },
  {
   "cell_type": "code",
   "execution_count": 189,
   "metadata": {
    "scrolled": true
   },
   "outputs": [
    {
     "data": {
      "text/html": [
       "<div>\n",
       "<style scoped>\n",
       "    .dataframe tbody tr th:only-of-type {\n",
       "        vertical-align: middle;\n",
       "    }\n",
       "\n",
       "    .dataframe tbody tr th {\n",
       "        vertical-align: top;\n",
       "    }\n",
       "\n",
       "    .dataframe thead th {\n",
       "        text-align: right;\n",
       "    }\n",
       "</style>\n",
       "<table border=\"1\" class=\"dataframe\">\n",
       "  <thead>\n",
       "    <tr style=\"text-align: right;\">\n",
       "      <th></th>\n",
       "      <th>Product</th>\n",
       "      <th>Price</th>\n",
       "      <th>RAM</th>\n",
       "    </tr>\n",
       "  </thead>\n",
       "  <tbody>\n",
       "    <tr>\n",
       "      <th>20</th>\n",
       "      <td>Samsung Galaxy M21 (Midnight Blue, 6GB RAM, 12...</td>\n",
       "      <td>14999</td>\n",
       "      <td>6.0</td>\n",
       "    </tr>\n",
       "  </tbody>\n",
       "</table>\n",
       "</div>"
      ],
      "text/plain": [
       "                                              Product  Price  RAM\n",
       "20  Samsung Galaxy M21 (Midnight Blue, 6GB RAM, 12...  14999  6.0"
      ]
     },
     "execution_count": 189,
     "metadata": {},
     "output_type": "execute_result"
    }
   ],
   "source": [
    "new_data.head(1)"
   ]
  }
 ],
 "metadata": {
  "kernelspec": {
   "display_name": "Python 3",
   "language": "python",
   "name": "python3"
  },
  "language_info": {
   "codemirror_mode": {
    "name": "ipython",
    "version": 3
   },
   "file_extension": ".py",
   "mimetype": "text/x-python",
   "name": "python",
   "nbconvert_exporter": "python",
   "pygments_lexer": "ipython3",
   "version": "3.6.10"
  }
 },
 "nbformat": 4,
 "nbformat_minor": 4
}
